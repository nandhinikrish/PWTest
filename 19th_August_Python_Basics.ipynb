{
 "cells": [
  {
   "cell_type": "markdown",
   "id": "db3c1572-4658-4b9f-b197-a796711d7197",
   "metadata": {},
   "source": [
    "Basics Variable"
   ]
  },
  {
   "cell_type": "code",
   "execution_count": 6,
   "id": "cdb7527b-986f-4ed0-a48b-fc8720188d8b",
   "metadata": {},
   "outputs": [
    {
     "name": "stdout",
     "output_type": "stream",
     "text": [
      "40\n",
      "20\n"
     ]
    }
   ],
   "source": [
    "x,y=20,40\n",
    "x,y =y,x\n",
    "print(x)\n",
    "print(y)"
   ]
  },
  {
   "cell_type": "code",
   "execution_count": 7,
   "id": "5529c7fa-9ad2-486d-bfb7-032532132eab",
   "metadata": {},
   "outputs": [
    {
     "name": "stdin",
     "output_type": "stream",
     "text": [
      "Enter the length of rectangle 5\n",
      "Enter the breath of rectangle 2\n"
     ]
    },
    {
     "name": "stdout",
     "output_type": "stream",
     "text": [
      "Area of rectangle is 10\n"
     ]
    }
   ],
   "source": [
    "length=int(input(\"Enter the length of rectangle\"))\n",
    "breath=int(input(\"Enter the breath of rectangle\"))\n",
    "Area = length * breath\n",
    "print(\"Area of rectangle is\", Area)"
   ]
  },
  {
   "cell_type": "code",
   "execution_count": 4,
   "id": "c5771337-3c95-4aff-a82e-fc2eed214fad",
   "metadata": {},
   "outputs": [
    {
     "data": {
      "text/plain": [
       "3.0"
      ]
     },
     "execution_count": 4,
     "metadata": {},
     "output_type": "execute_result"
    }
   ],
   "source": [
    "#Formual 0°C × 9/5) + 32 = 32°F\n",
    "\n",
    "celsius = int(input(\"enter the celsius\"))\n",
    "C2F=(celsius*9/5)+32\n",
    "print("
   ]
  },
  {
   "cell_type": "markdown",
   "id": "f4d56fb7-680d-44dc-ac98-02f7a95a9445",
   "metadata": {},
   "source": [
    "Strings"
   ]
  },
  {
   "cell_type": "code",
   "execution_count": 8,
   "id": "0fdcdf8e-6c75-49c7-9344-8c44c5c3a772",
   "metadata": {},
   "outputs": [
    {
     "name": "stdin",
     "output_type": "stream",
     "text": [
      "Enter the name PWskills\n"
     ]
    },
    {
     "name": "stdout",
     "output_type": "stream",
     "text": [
      "The length of word is  8\n"
     ]
    }
   ],
   "source": [
    "#length of the string.\n",
    "\n",
    "word=input(\"Enter the name\")\n",
    "count=0\n",
    "for i in word:\n",
    "    count=count+1\n",
    "print(\"The length of word is \", count)"
   ]
  },
  {
   "cell_type": "code",
   "execution_count": 12,
   "id": "2906f9fc-6094-4e2f-b6c4-92b9cce8734c",
   "metadata": {},
   "outputs": [
    {
     "name": "stdin",
     "output_type": "stream",
     "text": [
      "Enter the name Nandhini\n"
     ]
    },
    {
     "name": "stdout",
     "output_type": "stream",
     "text": [
      "The length of word is  3\n"
     ]
    }
   ],
   "source": [
    "#count number of vowels\n",
    "word=input(\"Enter the name\")\n",
    "count=0\n",
    "for i in word:\n",
    "    if i in ['a','e','i','o','u']:\n",
    "        count=count+1\n",
    "print(\"The length of word is \", count)"
   ]
  },
  {
   "cell_type": "code",
   "execution_count": 13,
   "id": "f95d29bd-4c82-4fc6-84e6-61dc9fc5552a",
   "metadata": {},
   "outputs": [
    {
     "name": "stdout",
     "output_type": "stream",
     "text": [
      "Reverse of given input using slicing SLLIKSWP\n"
     ]
    }
   ],
   "source": [
    "# Reverse of word\n",
    "word=\"PWSKILLS\"\n",
    "reverseword=word[::-1]\n",
    "print(\"Reverse of given input using slicing\",reverseword)"
   ]
  },
  {
   "cell_type": "code",
   "execution_count": 12,
   "id": "414958d0-0158-4360-8082-44f10d1ad8b6",
   "metadata": {},
   "outputs": [
    {
     "name": "stdin",
     "output_type": "stream",
     "text": [
      "Enter the name racecar\n"
     ]
    },
    {
     "name": "stdout",
     "output_type": "stream",
     "text": [
      "original word :  racecar\n",
      "palindrome\n"
     ]
    }
   ],
   "source": [
    "#palindrome\n",
    "word=input(\"Enter the name\")\n",
    "n=len(word)\n",
    "print(\"original word : \", word)\n",
    "for i in range(n//2):\n",
    "    if word[i] != word[n-i-1]:\n",
    "        print(\"Not a palindrome\")\n",
    "else:\n",
    "    print(\"palindrome\")"
   ]
  },
  {
   "cell_type": "code",
   "execution_count": 14,
   "id": "c96f5d3d-7011-4a14-a4b0-c3b5fcb40820",
   "metadata": {},
   "outputs": [
    {
     "name": "stdout",
     "output_type": "stream",
     "text": [
      "Thisismyfirstpythonprojectinpwskills"
     ]
    }
   ],
   "source": [
    "#Remove the space in string\n",
    "\n",
    "string=\"This is my first python project in pwskills\"\n",
    "\n",
    "for i in string.split(\" \"):\n",
    "    print(i,end=\"\")"
   ]
  },
  {
   "cell_type": "code",
   "execution_count": null,
   "id": "1b8f0a3d-dbe6-4baa-a419-5984b790ed14",
   "metadata": {},
   "outputs": [],
   "source": []
  }
 ],
 "metadata": {
  "kernelspec": {
   "display_name": "Python 3 (ipykernel)",
   "language": "python",
   "name": "python3"
  },
  "language_info": {
   "codemirror_mode": {
    "name": "ipython",
    "version": 3
   },
   "file_extension": ".py",
   "mimetype": "text/x-python",
   "name": "python",
   "nbconvert_exporter": "python",
   "pygments_lexer": "ipython3",
   "version": "3.10.8"
  }
 },
 "nbformat": 4,
 "nbformat_minor": 5
}
